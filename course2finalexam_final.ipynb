{
 "cells": [
  {
   "cell_type": "code",
   "execution_count": 189,
   "id": "f1ab8d91",
   "metadata": {},
   "outputs": [
    {
     "name": "stdout",
     "output_type": "stream",
     "text": [
      "file opened successfully.\n"
     ]
    }
   ],
   "source": [
    "# open file\n",
    "try:\n",
    "    f=open(\"E:dna2.fasta\")\n",
    "    print (\"file opened successfully.\")\n",
    "except IOError:\n",
    "    print(\"file dna2.fasta does not exist!!\")"
   ]
  },
  {
   "cell_type": "code",
   "execution_count": 190,
   "id": "98ac708b",
   "metadata": {},
   "outputs": [
    {
     "name": "stdout",
     "output_type": "stream",
     "text": [
      "read data from E:dna2.fasta successfully.\n"
     ]
    }
   ],
   "source": [
    "#read data\n",
    "try: \n",
    "    data = f.read()\n",
    "    # read = > str, readlines = > list, readline = > str\n",
    "    print (\"read data from %s successfully.\" % \"E:dna2.fasta\")\n",
    "except Exception as e: \n",
    "    print (e)"
   ]
  },
  {
   "cell_type": "code",
   "execution_count": 191,
   "id": "7c437dc2",
   "metadata": {},
   "outputs": [
    {
     "name": "stdout",
     "output_type": "stream",
     "text": [
      "There were 1 records in file E:dna2.fasta\n",
      "There were 2 records in file E:dna2.fasta\n",
      "There were 3 records in file E:dna2.fasta\n",
      "There were 4 records in file E:dna2.fasta\n",
      "There were 5 records in file E:dna2.fasta\n",
      "There were 6 records in file E:dna2.fasta\n",
      "There were 7 records in file E:dna2.fasta\n",
      "There were 8 records in file E:dna2.fasta\n",
      "There were 9 records in file E:dna2.fasta\n",
      "There were 10 records in file E:dna2.fasta\n",
      "There were 11 records in file E:dna2.fasta\n",
      "There were 12 records in file E:dna2.fasta\n",
      "There were 13 records in file E:dna2.fasta\n",
      "There were 14 records in file E:dna2.fasta\n",
      "There were 15 records in file E:dna2.fasta\n",
      "There were 16 records in file E:dna2.fasta\n",
      "There were 17 records in file E:dna2.fasta\n",
      "There were 18 records in file E:dna2.fasta\n"
     ]
    }
   ],
   "source": [
    "#find number of records\n",
    "from Bio import SeqIO\n",
    "count = 0\n",
    "for record in SeqIO.parse(\"E:dna2.fasta\", \"fasta\"):\n",
    "    count = count + 1\n",
    "    print(\"There were \" + str(count) + \" records in file \" + \"E:dna2.fasta\")"
   ]
  },
  {
   "cell_type": "code",
   "execution_count": 192,
   "id": "9cc0e9c0",
   "metadata": {},
   "outputs": [
    {
     "name": "stdout",
     "output_type": "stream",
     "text": [
      "18\n"
     ]
    }
   ],
   "source": [
    "print(data.count('>'))"
   ]
  },
  {
   "cell_type": "code",
   "execution_count": 193,
   "id": "8b4b3b86",
   "metadata": {},
   "outputs": [
    {
     "name": "stdout",
     "output_type": "stream",
     "text": [
      "Length of maximum string is : 4894\n",
      "Length of minimum string is : 115\n"
     ]
    }
   ],
   "source": [
    "records = list(SeqIO.parse(\"E:dna2.fasta\", \"fasta\"))\n",
    "res = max(len(ele) for ele in records)\n",
    "  \n",
    "# printing result\n",
    "print(\"Length of maximum string is : \" + str(res))\n",
    "res2 = min(len(ele) for ele in records)\n",
    "  \n",
    "# printing result\n",
    "print(\"Length of minimum string is : \" + str(res2))"
   ]
  },
  {
   "cell_type": "code",
   "execution_count": 195,
   "id": "39c19f79",
   "metadata": {},
   "outputs": [],
   "source": [
    "seqs = {}\n",
    "for line in file.splitlines():\n",
    "    if(line[0]=='>'):\n",
    "        words = line.split()\n",
    "        #print(words[0][1:])\n",
    "        name=words[0][1:]\n",
    "        #print(name)\n",
    "        seqs[name] = ''\n",
    "    else:\n",
    "        seqs[name] = seqs[name] + line"
   ]
  },
  {
   "cell_type": "code",
   "execution_count": 196,
   "id": "0085fe53",
   "metadata": {},
   "outputs": [],
   "source": [
    "seq_max_len_orf_rf2 = []\n",
    "reading_frame = 2\n",
    "for key, value in seqs.items():\n",
    "    seq = value[reading_frame-1:]\n",
    "    max_len_orf = 0\n",
    "    max_orf_start = 0\n",
    "    for i in range(0, len(seq), 3):\n",
    "        if seq[i:i + 3] == 'ATG':\n",
    "            for j in range(i + 3, len(seq) - 3, 3):\n",
    "                if seq[j:j + 3] in ['TAA', 'TAG', 'TGA']:\n",
    "                    len_orf = j+3-i\n",
    "                    if len_orf > max_len_orf:\n",
    "                        max_len_orf = len_orf\n",
    "                        max_orf_start = i\n",
    "                    break\n",
    "        seq_max_len_orf_rf2.append(max_len_orf)"
   ]
  },
  {
   "cell_type": "code",
   "execution_count": 197,
   "id": "75dc2fec",
   "metadata": {},
   "outputs": [
    {
     "data": {
      "text/plain": [
       "1458"
      ]
     },
     "execution_count": 197,
     "metadata": {},
     "output_type": "execute_result"
    }
   ],
   "source": [
    "max(seq_max_len_orf_rf2)"
   ]
  },
  {
   "cell_type": "code",
   "execution_count": 198,
   "id": "7b2cf405",
   "metadata": {},
   "outputs": [],
   "source": [
    "# calculate the start position and the length of longest ORF in sequence\n",
    "def orf(sequence, reading_frame):\n",
    "    seq_max_len_orf_rf2 = []\n",
    "    for key, value in seqs.items():\n",
    "        seq = value[reading_frame-1:]\n",
    "        max_len_orf = 0\n",
    "        max_orf_start = 0\n",
    "        for i in range(0, len(seq), 3):\n",
    "            if seq[i:i + 3] == 'ATG':\n",
    "                for j in range(i + 3, len(seq) - 3, 3):\n",
    "                    if seq[j:j + 3] in ['TAA', 'TAG', 'TGA']:\n",
    "                        len_orf = j+3-i\n",
    "                        if len_orf > max_len_orf:\n",
    "                            max_len_orf = len_orf\n",
    "                            max_orf_start = i\n",
    "                        break\n",
    "        seq_max_len_orf_rf2.append(max_len_orf)\n",
    "\n",
    "    return max_orf_start, max(seq_max_len_orf_rf2)"
   ]
  },
  {
   "cell_type": "code",
   "execution_count": 199,
   "id": "bb625ae9",
   "metadata": {},
   "outputs": [
    {
     "data": {
      "text/plain": [
       "(1539, 1458)"
      ]
     },
     "execution_count": 199,
     "metadata": {},
     "output_type": "execute_result"
    }
   ],
   "source": [
    "orf(seqs,2)"
   ]
  },
  {
   "cell_type": "code",
   "execution_count": 200,
   "id": "021fb181",
   "metadata": {},
   "outputs": [
    {
     "data": {
      "text/plain": [
       "(633, 1821)"
      ]
     },
     "execution_count": 200,
     "metadata": {},
     "output_type": "execute_result"
    }
   ],
   "source": [
    "orf(seqs,3)"
   ]
  },
  {
   "cell_type": "code",
   "execution_count": 201,
   "id": "a532faf0",
   "metadata": {},
   "outputs": [
    {
     "data": {
      "text/plain": [
       "(1224, 2394)"
      ]
     },
     "execution_count": 201,
     "metadata": {},
     "output_type": "execute_result"
    }
   ],
   "source": [
    "orf(seqs,1)"
   ]
  },
  {
   "cell_type": "code",
   "execution_count": 202,
   "id": "cc7b5c82",
   "metadata": {},
   "outputs": [],
   "source": [
    "seq_max_len_orf_rf2 = []\n",
    "for key, value in seqs.items():\n",
    "     for i in range(1,4):\n",
    "            reading_frame = i\n",
    "            seq = value[reading_frame-1:]\n",
    "            max_len_orf = 0\n",
    "            max_orf_start = 0\n",
    "            if key == 'gi|142022655|gb|EQ086233.1|16':\n",
    "                for i in range(0, len(seq), 3):\n",
    "                    if seq[i:i + 3] == 'ATG':\n",
    "                        for j in range(i + 3, len(seq) - 3, 3):\n",
    "                            if seq[j:j + 3] in ['TAA', 'TAG', 'TGA']:\n",
    "                                len_orf = j+3-i\n",
    "                                if len_orf > max_len_orf:\n",
    "                                    max_len_orf = len_orf\n",
    "                                    max_orf_start = i\n",
    "                                break\n",
    "                seq_max_len_orf_rf2.append(max_len_orf)"
   ]
  },
  {
   "cell_type": "code",
   "execution_count": 203,
   "id": "d0019744",
   "metadata": {},
   "outputs": [
    {
     "data": {
      "text/plain": [
       "1644"
      ]
     },
     "execution_count": 203,
     "metadata": {},
     "output_type": "execute_result"
    }
   ],
   "source": [
    "max(seq_max_len_orf_rf2)"
   ]
  },
  {
   "cell_type": "code",
   "execution_count": 140,
   "id": "804260ac",
   "metadata": {},
   "outputs": [],
   "source": [
    "import io\n",
    "import collections"
   ]
  },
  {
   "cell_type": "code",
   "execution_count": 141,
   "id": "2be2b95d",
   "metadata": {},
   "outputs": [],
   "source": [
    "from collections import Counter"
   ]
  },
  {
   "cell_type": "code",
   "execution_count": 219,
   "id": "95652723",
   "metadata": {},
   "outputs": [],
   "source": [
    "# Find the list of sub-sequences of length 6\n",
    "repeat_num = 6\n",
    "sub_seq_list = []\n",
    "for key, value in seqs.items():\n",
    "    #print(value)\n",
    "    for i in range(len(value) -  repeat_num):\n",
    "        sub_seq_list.append(value[i:(i+repeat_num)])"
   ]
  },
  {
   "cell_type": "code",
   "execution_count": 220,
   "id": "45177e29",
   "metadata": {},
   "outputs": [
    {
     "data": {
      "text/plain": [
       "45635"
      ]
     },
     "execution_count": 220,
     "metadata": {},
     "output_type": "execute_result"
    }
   ],
   "source": [
    "len(sub_seq_list)"
   ]
  },
  {
   "cell_type": "code",
   "execution_count": 221,
   "id": "5d141959",
   "metadata": {},
   "outputs": [
    {
     "data": {
      "text/plain": [
       "[('GCGCGC', 153),\n",
       " ('CGCGCG', 151),\n",
       " ('GCCGCG', 147),\n",
       " ('GCGCCG', 135),\n",
       " ('CGCGGC', 131)]"
      ]
     },
     "execution_count": 221,
     "metadata": {},
     "output_type": "execute_result"
    }
   ],
   "source": [
    "Counter(sub_seq_list).most_common(5)"
   ]
  },
  {
   "cell_type": "code",
   "execution_count": 224,
   "id": "edec880c",
   "metadata": {},
   "outputs": [],
   "source": [
    "# Find the list of sub-sequences of length 12\n",
    "repeat_num = 12\n",
    "sub_seq_list2 = []\n",
    "for key, value in seqs.items():\n",
    "    #print(value)\n",
    "    for i in range(len(value) -  repeat_num):\n",
    "        sub_seq_list2.append(value[i:(i+repeat_num)])"
   ]
  },
  {
   "cell_type": "code",
   "execution_count": 225,
   "id": "f6186f3e",
   "metadata": {},
   "outputs": [
    {
     "data": {
      "text/plain": [
       "[('CATTCGCCATTC', 10),\n",
       " ('ATTCGCCATTCG', 10),\n",
       " ('TTCGCCATTCGC', 10),\n",
       " ('TCGCCATTCGCC', 10),\n",
       " ('CGCCATTCGCCA', 9)]"
      ]
     },
     "execution_count": 225,
     "metadata": {},
     "output_type": "execute_result"
    }
   ],
   "source": [
    "Counter(sub_seq_list2).most_common(5)"
   ]
  },
  {
   "cell_type": "code",
   "execution_count": 226,
   "id": "2d1d5ecc",
   "metadata": {},
   "outputs": [],
   "source": [
    "# Find the list of sub-sequences of length 7\n",
    "repeat_num = 7\n",
    "sub_seq_list3 = []\n",
    "for key, value in seqs.items():\n",
    "    #print(value)\n",
    "    for i in range(len(value) -  repeat_num):\n",
    "        sub_seq_list3.append(value[i:(i+repeat_num)])"
   ]
  },
  {
   "cell_type": "code",
   "execution_count": 227,
   "id": "f601d86a",
   "metadata": {},
   "outputs": [
    {
     "data": {
      "text/plain": [
       "[('CGCGCCG', 63),\n",
       " ('CGCCGCG', 62),\n",
       " ('GCCGCGC', 61),\n",
       " ('GCGCGCG', 59),\n",
       " ('GCGCGGC', 58)]"
      ]
     },
     "execution_count": 227,
     "metadata": {},
     "output_type": "execute_result"
    }
   ],
   "source": [
    "Counter(sub_seq_list3).most_common(5)"
   ]
  }
 ],
 "metadata": {
  "kernelspec": {
   "display_name": "Python 3 (ipykernel)",
   "language": "python",
   "name": "python3"
  },
  "language_info": {
   "codemirror_mode": {
    "name": "ipython",
    "version": 3
   },
   "file_extension": ".py",
   "mimetype": "text/x-python",
   "name": "python",
   "nbconvert_exporter": "python",
   "pygments_lexer": "ipython3",
   "version": "3.9.7"
  }
 },
 "nbformat": 4,
 "nbformat_minor": 5
}
