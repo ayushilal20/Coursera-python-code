{
 "cells": [
  {
   "cell_type": "code",
   "execution_count": 1,
   "id": "dda55658",
   "metadata": {},
   "outputs": [],
   "source": [
    "def readGenome(filename):\n",
    "    genome = ''\n",
    "    with open(filename, 'r') as f:\n",
    "        for line in f:\n",
    "            # ignore header line with genome information\n",
    "            if not line[0] == '>':\n",
    "                genome += line.rstrip()\n",
    "    return genome"
   ]
  },
  {
   "cell_type": "code",
   "execution_count": 2,
   "id": "68e2892f",
   "metadata": {},
   "outputs": [],
   "source": [
    "genome = readGenome('lambda_virusTEST.fa')"
   ]
  },
  {
   "cell_type": "code",
   "execution_count": 4,
   "id": "a2df47d9",
   "metadata": {},
   "outputs": [],
   "source": [
    "def reverseComplement(s):\n",
    "    complement = {'A': 'T', 'C': 'G', 'G': 'C', 'T': 'A', 'N': 'N'}\n",
    "    t = ''\n",
    "    for base in s:\n",
    "        t = complement[base] + t\n",
    "    return t"
   ]
  },
  {
   "cell_type": "code",
   "execution_count": 16,
   "id": "a17887a6",
   "metadata": {},
   "outputs": [],
   "source": [
    "def naive(p, t): #naive exact algorithm\n",
    "    occurrences = [] # list of all indices where p matches t\n",
    "    for i in range(len(t) - len(p) + 1):\n",
    "        match = True\n",
    "        for j in range(len(p)):\n",
    "            if t[i+j] != p[j]:\n",
    "                match = False\n",
    "                break\n",
    "        if match:\n",
    "          occurrences.append(i)\n",
    "    return occurrences"
   ]
  },
  {
   "cell_type": "code",
   "execution_count": 14,
   "id": "e683464e",
   "metadata": {},
   "outputs": [],
   "source": [
    "def naive_with_rc(p, t):\n",
    "    p_rev = reverseComplement(p)\n",
    "    occurrences = []\n",
    "    for i in range(len(t) - len(p) + 1):  # loop over alignments\n",
    "        match = True\n",
    "        for j in range(len(p)):  # loop over characters\n",
    "            if t[i+j] != p[j]:  # compare characters\n",
    "                match = False\n",
    "                break\n",
    "        if not match:\n",
    "            match = True\n",
    "            for j in range(len(p)):  # loop over characters\n",
    "                if t[i + j] != p_rev[j]:  # compare characters\n",
    "                    match = False\n",
    "                    break\n",
    "        if match:\n",
    "            occurrences.append(i)  # all chars matched; record\n",
    "    return occurrences"
   ]
  },
  {
   "cell_type": "code",
   "execution_count": 15,
   "id": "e8105706",
   "metadata": {},
   "outputs": [
    {
     "name": "stdout",
     "output_type": "stream",
     "text": [
      "306\n"
     ]
    }
   ],
   "source": [
    "# Question1\n",
    "print(len(naive_with_rc('AGGT', genome)))"
   ]
  },
  {
   "cell_type": "code",
   "execution_count": 19,
   "id": "58988879",
   "metadata": {},
   "outputs": [
    {
     "name": "stdout",
     "output_type": "stream",
     "text": [
      "150\n"
     ]
    }
   ],
   "source": [
    "# Question1\n",
    "print(len(naive('AGGT', genome)))"
   ]
  },
  {
   "cell_type": "code",
   "execution_count": 20,
   "id": "46846a11",
   "metadata": {},
   "outputs": [
    {
     "name": "stdout",
     "output_type": "stream",
     "text": [
      "156\n"
     ]
    }
   ],
   "source": [
    "# Question1\n",
    "print(len(naive('ACCT', genome)))"
   ]
  },
  {
   "cell_type": "code",
   "execution_count": 17,
   "id": "3b4ac5bc",
   "metadata": {},
   "outputs": [
    {
     "name": "stdout",
     "output_type": "stream",
     "text": [
      "195\n"
     ]
    }
   ],
   "source": [
    "#Question2\n",
    "print(len(naive_with_rc('TTAA', genome)))"
   ]
  },
  {
   "cell_type": "code",
   "execution_count": 18,
   "id": "f6130ec7",
   "metadata": {},
   "outputs": [
    {
     "name": "stdout",
     "output_type": "stream",
     "text": [
      "195\n"
     ]
    }
   ],
   "source": [
    "#Question2\n",
    "print(len(naive('TTAA', genome)))"
   ]
  },
  {
   "cell_type": "code",
   "execution_count": 24,
   "id": "4a0ede5b",
   "metadata": {},
   "outputs": [
    {
     "data": {
      "text/plain": [
       "[26028, 27733, 45382]"
      ]
     },
     "execution_count": 24,
     "metadata": {},
     "output_type": "execute_result"
    }
   ],
   "source": [
    "naive_with_rc('ACTAAGT', genome)\n"
   ]
  },
  {
   "cell_type": "code",
   "execution_count": 23,
   "id": "82129151",
   "metadata": {},
   "outputs": [
    {
     "name": "stdout",
     "output_type": "stream",
     "text": [
      "26028\n"
     ]
    }
   ],
   "source": [
    "# Question3\n",
    "print(min(naive_with_rc('ACTAAGT', genome)))"
   ]
  },
  {
   "cell_type": "code",
   "execution_count": 26,
   "id": "5ab8345b",
   "metadata": {},
   "outputs": [
    {
     "name": "stdout",
     "output_type": "stream",
     "text": [
      "450\n"
     ]
    }
   ],
   "source": [
    "# Question4\n",
    "print(min(naive_with_rc('AGTCGA', genome)))"
   ]
  },
  {
   "cell_type": "code",
   "execution_count": 28,
   "id": "e371a197",
   "metadata": {},
   "outputs": [],
   "source": [
    "def naive_2mm(p, t):\n",
    "    occurrences = []\n",
    "    for i in range(len(t) - len(p) + 1):  # loop over alignments\n",
    "        count_mismatch = 0\n",
    "        for j in range(len(p)):  # loop over characters\n",
    "            if t[i+j] != p[j]:  # compare characters\n",
    "                count_mismatch += 1\n",
    "        if count_mismatch <= 2:\n",
    "            occurrences.append(i)  # all chars matched; record\n",
    "    return occurrences"
   ]
  },
  {
   "cell_type": "code",
   "execution_count": 30,
   "id": "a55c1f2e",
   "metadata": {},
   "outputs": [
    {
     "name": "stdout",
     "output_type": "stream",
     "text": [
      "191\n"
     ]
    }
   ],
   "source": [
    "# Question5\n",
    "print(len(naive_2mm('TTCAAGCC', genome)))"
   ]
  },
  {
   "cell_type": "code",
   "execution_count": 35,
   "id": "b4af0ac3",
   "metadata": {},
   "outputs": [
    {
     "name": "stdout",
     "output_type": "stream",
     "text": [
      "offset of leftmost occurrence: 49\n",
      "# occurrences: 215\n"
     ]
    }
   ],
   "source": [
    "# Question6\n",
    "p = \"AGGAGGTT\"\n",
    "occurrences = naive_2mm(p,genome)\n",
    "print('offset of leftmost occurrence: %d' % min(occurrences))\n",
    "print('# occurrences: %d' % len(occurrences))"
   ]
  },
  {
   "cell_type": "code",
   "execution_count": 32,
   "id": "d94b4825",
   "metadata": {},
   "outputs": [],
   "source": [
    "def readFastq(filename):\n",
    "    sequences = []\n",
    "    with open(filename) as fh:\n",
    "        while True:\n",
    "            fh.readline() # skip name line\n",
    "            seq = fh.readline().rstrip() # read base sequence\n",
    "            fh.readline() # skip placeholder line\n",
    "            fh.readline() # skip base quality line\n",
    "            if len(seq) == 0:\n",
    "                break\n",
    "            sequences.append(seq)\n",
    "    return sequences"
   ]
  },
  {
   "cell_type": "code",
   "execution_count": 33,
   "id": "bc5c89d4",
   "metadata": {},
   "outputs": [],
   "source": [
    "hgenome_reads = readFastq('ERR037900_1.first1000.fastq')"
   ]
  },
  {
   "cell_type": "code",
   "execution_count": null,
   "id": "de266feb",
   "metadata": {},
   "outputs": [],
   "source": []
  }
 ],
 "metadata": {
  "kernelspec": {
   "display_name": "Python 3 (ipykernel)",
   "language": "python",
   "name": "python3"
  },
  "language_info": {
   "codemirror_mode": {
    "name": "ipython",
    "version": 3
   },
   "file_extension": ".py",
   "mimetype": "text/x-python",
   "name": "python",
   "nbconvert_exporter": "python",
   "pygments_lexer": "ipython3",
   "version": "3.9.7"
  }
 },
 "nbformat": 4,
 "nbformat_minor": 5
}
