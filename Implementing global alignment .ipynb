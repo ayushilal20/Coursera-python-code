{
 "cells": [
  {
   "cell_type": "code",
   "execution_count": 1,
   "id": "0f3eb6d5",
   "metadata": {},
   "outputs": [],
   "source": [
    "alphabet = ['A', 'C', 'G', 'T']\n",
    "score = [[0, 4, 2, 4, 8],\n",
    "         [4, 0, 4, 2, 8],\n",
    "         [2, 4, 0, 4, 8],\n",
    "         [4, 2, 4, 0, 8],\n",
    "         [8, 8, 8, 8, 8]] #penalty matrix"
   ]
  },
  {
   "cell_type": "code",
   "execution_count": 2,
   "id": "66273fbb",
   "metadata": {},
   "outputs": [
    {
     "data": {
      "text/plain": [
       "0"
      ]
     },
     "execution_count": 2,
     "metadata": {},
     "output_type": "execute_result"
    }
   ],
   "source": [
    "# converts from character to its offset in list alphabet\n",
    "alphabet.index('A')"
   ]
  },
  {
   "cell_type": "code",
   "execution_count": 3,
   "id": "55f1e9c2",
   "metadata": {},
   "outputs": [
    {
     "data": {
      "text/plain": [
       "2"
      ]
     },
     "execution_count": 3,
     "metadata": {},
     "output_type": "execute_result"
    }
   ],
   "source": [
    "alphabet.index('G')\n"
   ]
  },
  {
   "cell_type": "code",
   "execution_count": 4,
   "id": "82c4cfe7",
   "metadata": {},
   "outputs": [
    {
     "data": {
      "text/plain": [
       "4"
      ]
     },
     "execution_count": 4,
     "metadata": {},
     "output_type": "execute_result"
    }
   ],
   "source": [
    "# penalty associated with A (from X) mismatching with T (from Y)\n",
    "score[alphabet.index('A')][alphabet.index('T')]"
   ]
  },
  {
   "cell_type": "code",
   "execution_count": 5,
   "id": "621adb45",
   "metadata": {},
   "outputs": [
    {
     "data": {
      "text/plain": [
       "8"
      ]
     },
     "execution_count": 5,
     "metadata": {},
     "output_type": "execute_result"
    }
   ],
   "source": [
    "# penalty associated with C (from X) being deleted in Y\n",
    "score[alphabet.index('C')][-1]"
   ]
  },
  {
   "cell_type": "code",
   "execution_count": 6,
   "id": "39b0ca4b",
   "metadata": {},
   "outputs": [],
   "source": [
    "def globalAlignment(x, y):\n",
    "    # Create distance matrix\n",
    "    D = []\n",
    "    for i in range(len(x)+1):\n",
    "        D.append([0] * (len(y)+1))\n",
    "        \n",
    "    # Initialize first column\n",
    "    for i in range(1, len(x)+1):\n",
    "        D[i][0] = D[i-1][0] + score[alphabet.index(x[i-1])][-1]\n",
    "\n",
    "    # Initialize first row\n",
    "    for j in range(1,len(y)+1):\n",
    "        D[0][j] = D[0][j-1] + score[-1][alphabet.index(y[j-1])]\n",
    "        \n",
    "    # Fill rest of the matrix\n",
    "    for i in range(1, len(x)+1):\n",
    "        for j in range(1, len(y)+1):\n",
    "            distHor = D[i][j-1] + score[-1][alphabet.index(y[j-1])]\n",
    "            distVer = D[i-1][j] + score[alphabet.index(x[i-1])][-1]\n",
    "            distDiag = D[i-1][j-1] + score[alphabet.index(x[i-1])][alphabet.index(y[j-1])]\n",
    "            D[i][j] = min(distHor, distVer, distDiag)\n",
    "    \n",
    "    return D[-1][-1]  # return value in bottom right corner"
   ]
  },
  {
   "cell_type": "code",
   "execution_count": 7,
   "id": "794d7b84",
   "metadata": {},
   "outputs": [
    {
     "name": "stdout",
     "output_type": "stream",
     "text": [
      "12\n"
     ]
    }
   ],
   "source": [
    "x = 'TATGTCATGC'\n",
    "y = 'TATGGCAGC'\n",
    "print(globalAlignment(x,y))"
   ]
  },
  {
   "cell_type": "code",
   "execution_count": null,
   "id": "61eac2a5",
   "metadata": {},
   "outputs": [],
   "source": []
  }
 ],
 "metadata": {
  "kernelspec": {
   "display_name": "Python 3 (ipykernel)",
   "language": "python",
   "name": "python3"
  },
  "language_info": {
   "codemirror_mode": {
    "name": "ipython",
    "version": 3
   },
   "file_extension": ".py",
   "mimetype": "text/x-python",
   "name": "python",
   "nbconvert_exporter": "python",
   "pygments_lexer": "ipython3",
   "version": "3.9.7"
  }
 },
 "nbformat": 4,
 "nbformat_minor": 5
}
