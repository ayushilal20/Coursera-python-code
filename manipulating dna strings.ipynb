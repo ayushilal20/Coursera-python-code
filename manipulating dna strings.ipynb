{
 "cells": [
  {
   "cell_type": "code",
   "execution_count": 1,
   "id": "54d69099",
   "metadata": {},
   "outputs": [],
   "source": [
    "def longestCommonPrefix(s1,s2):\n",
    "    i=0\n",
    "    while i<len(s1) and i<len(s2) and s1[i]==s2[i]:\n",
    "        i+=1\n",
    "    return s1[:i]"
   ]
  },
  {
   "cell_type": "code",
   "execution_count": 2,
   "id": "856215c5",
   "metadata": {},
   "outputs": [
    {
     "data": {
      "text/plain": [
       "'ACCA'"
      ]
     },
     "execution_count": 2,
     "metadata": {},
     "output_type": "execute_result"
    }
   ],
   "source": [
    "longestCommonPrefix('ACCATGT','ACCAGAC')"
   ]
  },
  {
   "cell_type": "code",
   "execution_count": 3,
   "id": "96fd9b9b",
   "metadata": {},
   "outputs": [],
   "source": [
    "def match(s1,s2):\n",
    "    if not len(s1)==len(s2):\n",
    "        return False\n",
    "    for i in range(len(s1)):\n",
    "        if not s1[i]==s2[i]:\n",
    "            return False\n",
    "    return True"
   ]
  },
  {
   "cell_type": "code",
   "execution_count": 4,
   "id": "7f0d3b63",
   "metadata": {},
   "outputs": [
    {
     "data": {
      "text/plain": [
       "True"
      ]
     },
     "execution_count": 4,
     "metadata": {},
     "output_type": "execute_result"
    }
   ],
   "source": [
    "match('ATGCT','ATGCT')"
   ]
  },
  {
   "cell_type": "code",
   "execution_count": 5,
   "id": "3cdd5540",
   "metadata": {},
   "outputs": [
    {
     "data": {
      "text/plain": [
       "False"
      ]
     },
     "execution_count": 5,
     "metadata": {},
     "output_type": "execute_result"
    }
   ],
   "source": [
    "match('ATGCT','AAAGG')"
   ]
  },
  {
   "cell_type": "code",
   "execution_count": 7,
   "id": "d065fac9",
   "metadata": {},
   "outputs": [
    {
     "data": {
      "text/plain": [
       "False"
      ]
     },
     "execution_count": 7,
     "metadata": {},
     "output_type": "execute_result"
    }
   ],
   "source": [
    "'ATGCT'=='AAAGG'"
   ]
  },
  {
   "cell_type": "code",
   "execution_count": 8,
   "id": "a99d030e",
   "metadata": {},
   "outputs": [],
   "source": [
    "complement={'A':'T','C':'G','T':'A','G':'C'}"
   ]
  },
  {
   "cell_type": "code",
   "execution_count": 13,
   "id": "4fe1c276",
   "metadata": {},
   "outputs": [],
   "source": [
    "def reverseComplement(s):\n",
    "    complement={'A':'T','C':'G','T':'A','G':'C'}\n",
    "    t=''\n",
    "    for base in s:\n",
    "        t=complement[base]+t \n",
    "        \"\"\"adding the complement of each base to the beginning of t rather\n",
    "than to the end of it.This causes it to reverse the string since we're going\n",
    "from the back to the front instead of from beginning to end. \"\"\"\n",
    "    return t"
   ]
  },
  {
   "cell_type": "code",
   "execution_count": 14,
   "id": "5cecb3d8",
   "metadata": {},
   "outputs": [
    {
     "data": {
      "text/plain": [
       "'CGACGGT'"
      ]
     },
     "execution_count": 14,
     "metadata": {},
     "output_type": "execute_result"
    }
   ],
   "source": [
    "reverseComplement('ACCGTCG')"
   ]
  },
  {
   "cell_type": "code",
   "execution_count": null,
   "id": "29487dc3",
   "metadata": {},
   "outputs": [],
   "source": []
  }
 ],
 "metadata": {
  "kernelspec": {
   "display_name": "Python 3 (ipykernel)",
   "language": "python",
   "name": "python3"
  },
  "language_info": {
   "codemirror_mode": {
    "name": "ipython",
    "version": 3
   },
   "file_extension": ".py",
   "mimetype": "text/x-python",
   "name": "python",
   "nbconvert_exporter": "python",
   "pygments_lexer": "ipython3",
   "version": "3.9.7"
  }
 },
 "nbformat": 4,
 "nbformat_minor": 5
}
