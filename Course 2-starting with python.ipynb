{
 "cells": [
  {
   "cell_type": "code",
   "execution_count": 1,
   "id": "13f7b23a",
   "metadata": {},
   "outputs": [],
   "source": [
    "brca1={'dna repair','zinc ion binding', 'dna binding', 'dna repair'}"
   ]
  },
  {
   "cell_type": "code",
   "execution_count": 2,
   "id": "1a4bec95",
   "metadata": {},
   "outputs": [
    {
     "data": {
      "text/plain": [
       "{'dna binding', 'dna repair', 'zinc ion binding'}"
      ]
     },
     "execution_count": 2,
     "metadata": {},
     "output_type": "execute_result"
    }
   ],
   "source": [
    "brca1"
   ]
  },
  {
   "cell_type": "code",
   "execution_count": 3,
   "id": "3ac952f4",
   "metadata": {},
   "outputs": [],
   "source": [
    "brca2={'protein binding', 'h4 histone acetyltransferase activity', 'nucleoplasm'}\n"
   ]
  },
  {
   "cell_type": "code",
   "execution_count": 4,
   "id": "ec0b9ef1",
   "metadata": {},
   "outputs": [
    {
     "data": {
      "text/plain": [
       "{'h4 histone acetyltransferase activity', 'nucleoplasm', 'protein binding'}"
      ]
     },
     "execution_count": 4,
     "metadata": {},
     "output_type": "execute_result"
    }
   ],
   "source": [
    "brca2"
   ]
  },
  {
   "cell_type": "code",
   "execution_count": 5,
   "id": "0e03729e",
   "metadata": {},
   "outputs": [
    {
     "data": {
      "text/plain": [
       "{'dna binding',\n",
       " 'dna repair',\n",
       " 'h4 histone acetyltransferase activity',\n",
       " 'nucleoplasm',\n",
       " 'protein binding',\n",
       " 'zinc ion binding'}"
      ]
     },
     "execution_count": 5,
     "metadata": {},
     "output_type": "execute_result"
    }
   ],
   "source": [
    "brca1 | brca2"
   ]
  },
  {
   "cell_type": "code",
   "execution_count": 6,
   "id": "d79e989c",
   "metadata": {},
   "outputs": [
    {
     "data": {
      "text/plain": [
       "set()"
      ]
     },
     "execution_count": 6,
     "metadata": {},
     "output_type": "execute_result"
    }
   ],
   "source": [
    "brca1 & brca2"
   ]
  },
  {
   "cell_type": "code",
   "execution_count": 7,
   "id": "02b3c576",
   "metadata": {},
   "outputs": [
    {
     "data": {
      "text/plain": [
       "{'dna binding', 'dna repair', 'zinc ion binding'}"
      ]
     },
     "execution_count": 7,
     "metadata": {},
     "output_type": "execute_result"
    }
   ],
   "source": [
    "brca1 - brca2"
   ]
  },
  {
   "cell_type": "code",
   "execution_count": 8,
   "id": "689ba548",
   "metadata": {},
   "outputs": [],
   "source": [
    "TF_motif={'SP1':'gggcgg','C/EBP':'attgcgcaat','ATF':'tgacgtca','c-Myc':'cacgtg','Oct-1':'atgcaaat'}\n"
   ]
  },
  {
   "cell_type": "code",
   "execution_count": 9,
   "id": "bd1f5254",
   "metadata": {},
   "outputs": [
    {
     "name": "stdout",
     "output_type": "stream",
     "text": [
      "The recognition sequence for the ATF transcription is tgacgtca.\n"
     ]
    }
   ],
   "source": [
    "print (\"The recognition sequence for the ATF transcription is %s.\" % TF_motif['ATF'])"
   ]
  },
  {
   "cell_type": "code",
   "execution_count": 10,
   "id": "fe4e1a4e",
   "metadata": {},
   "outputs": [],
   "source": [
    "TF_motif ['AP-1']='tgagtca'"
   ]
  },
  {
   "cell_type": "code",
   "execution_count": 11,
   "id": "41e5b442",
   "metadata": {},
   "outputs": [
    {
     "data": {
      "text/plain": [
       "{'SP1': 'gggcgg',\n",
       " 'C/EBP': 'attgcgcaat',\n",
       " 'ATF': 'tgacgtca',\n",
       " 'c-Myc': 'cacgtg',\n",
       " 'Oct-1': 'atgcaaat',\n",
       " 'AP-1': 'tgagtca'}"
      ]
     },
     "execution_count": 11,
     "metadata": {},
     "output_type": "execute_result"
    }
   ],
   "source": [
    "TF_motif"
   ]
  },
  {
   "cell_type": "code",
   "execution_count": 12,
   "id": "8eec43ac",
   "metadata": {},
   "outputs": [],
   "source": [
    "TF_motif ['AP-1']= 'tga(g/c)tca'"
   ]
  },
  {
   "cell_type": "code",
   "execution_count": 13,
   "id": "d5834d87",
   "metadata": {},
   "outputs": [
    {
     "data": {
      "text/plain": [
       "{'SP1': 'gggcgg',\n",
       " 'C/EBP': 'attgcgcaat',\n",
       " 'ATF': 'tgacgtca',\n",
       " 'c-Myc': 'cacgtg',\n",
       " 'Oct-1': 'atgcaaat',\n",
       " 'AP-1': 'tga(g/c)tca'}"
      ]
     },
     "execution_count": 13,
     "metadata": {},
     "output_type": "execute_result"
    }
   ],
   "source": [
    "TF_motif"
   ]
  },
  {
   "cell_type": "code",
   "execution_count": 14,
   "id": "b95b6eb9",
   "metadata": {},
   "outputs": [],
   "source": [
    "del TF_motif ['SP1']"
   ]
  },
  {
   "cell_type": "code",
   "execution_count": 15,
   "id": "802aa3ad",
   "metadata": {},
   "outputs": [
    {
     "data": {
      "text/plain": [
       "{'C/EBP': 'attgcgcaat',\n",
       " 'ATF': 'tgacgtca',\n",
       " 'c-Myc': 'cacgtg',\n",
       " 'Oct-1': 'atgcaaat',\n",
       " 'AP-1': 'tga(g/c)tca'}"
      ]
     },
     "execution_count": 15,
     "metadata": {},
     "output_type": "execute_result"
    }
   ],
   "source": [
    "TF_motif"
   ]
  },
  {
   "cell_type": "code",
   "execution_count": 16,
   "id": "5cbc3586",
   "metadata": {},
   "outputs": [],
   "source": [
    "TF_motif.update({'SP1':'gggcgg','C/EBP':'attgcgcaat','Oct-1':'atgcaaa'})"
   ]
  },
  {
   "cell_type": "code",
   "execution_count": 17,
   "id": "1ef97440",
   "metadata": {},
   "outputs": [
    {
     "data": {
      "text/plain": [
       "{'C/EBP': 'attgcgcaat',\n",
       " 'ATF': 'tgacgtca',\n",
       " 'c-Myc': 'cacgtg',\n",
       " 'Oct-1': 'atgcaaa',\n",
       " 'AP-1': 'tga(g/c)tca',\n",
       " 'SP1': 'gggcgg'}"
      ]
     },
     "execution_count": 17,
     "metadata": {},
     "output_type": "execute_result"
    }
   ],
   "source": [
    "TF_motif"
   ]
  },
  {
   "cell_type": "code",
   "execution_count": 18,
   "id": "a6fc1a7c",
   "metadata": {},
   "outputs": [
    {
     "data": {
      "text/plain": [
       "6"
      ]
     },
     "execution_count": 18,
     "metadata": {},
     "output_type": "execute_result"
    }
   ],
   "source": [
    "len(TF_motif)"
   ]
  },
  {
   "cell_type": "code",
   "execution_count": 19,
   "id": "eb720d85",
   "metadata": {},
   "outputs": [
    {
     "data": {
      "text/plain": [
       "['C/EBP', 'ATF', 'c-Myc', 'Oct-1', 'AP-1', 'SP1']"
      ]
     },
     "execution_count": 19,
     "metadata": {},
     "output_type": "execute_result"
    }
   ],
   "source": [
    "list (TF_motif.keys())"
   ]
  },
  {
   "cell_type": "code",
   "execution_count": 20,
   "id": "0c33d3eb",
   "metadata": {},
   "outputs": [
    {
     "data": {
      "text/plain": [
       "['attgcgcaat', 'tgacgtca', 'cacgtg', 'atgcaaa', 'tga(g/c)tca', 'gggcgg']"
      ]
     },
     "execution_count": 20,
     "metadata": {},
     "output_type": "execute_result"
    }
   ],
   "source": [
    "list (TF_motif.values())"
   ]
  },
  {
   "cell_type": "code",
   "execution_count": 21,
   "id": "54f99f87",
   "metadata": {},
   "outputs": [
    {
     "data": {
      "text/plain": [
       "['AP-1', 'ATF', 'C/EBP', 'Oct-1', 'SP1', 'c-Myc']"
      ]
     },
     "execution_count": 21,
     "metadata": {},
     "output_type": "execute_result"
    }
   ],
   "source": [
    "sorted (TF_motif.keys())"
   ]
  },
  {
   "cell_type": "code",
   "execution_count": 22,
   "id": "81cfdfcf",
   "metadata": {},
   "outputs": [
    {
     "data": {
      "text/plain": [
       "['atgcaaa', 'attgcgcaat', 'cacgtg', 'gggcgg', 'tga(g/c)tca', 'tgacgtca']"
      ]
     },
     "execution_count": 22,
     "metadata": {},
     "output_type": "execute_result"
    }
   ],
   "source": [
    "sorted (TF_motif.values())"
   ]
  },
  {
   "cell_type": "code",
   "execution_count": 23,
   "id": "ac980c9f",
   "metadata": {},
   "outputs": [],
   "source": [
    "grades = [70,80.0,90,100]"
   ]
  },
  {
   "cell_type": "code",
   "execution_count": 24,
   "id": "9d4123bc",
   "metadata": {},
   "outputs": [
    {
     "data": {
      "text/plain": [
       "90.0"
      ]
     },
     "execution_count": 24,
     "metadata": {},
     "output_type": "execute_result"
    }
   ],
   "source": [
    "(grades[1]+grades[3])/2"
   ]
  },
  {
   "cell_type": "code",
   "execution_count": 25,
   "id": "b0d1b213",
   "metadata": {},
   "outputs": [],
   "source": [
    "splice_site_pairs = ['GT-AG','GC-AG','AT-AC']"
   ]
  },
  {
   "cell_type": "code",
   "execution_count": 26,
   "id": "54c1d843",
   "metadata": {},
   "outputs": [
    {
     "data": {
      "text/plain": [
       "['GT-AG', 'GC-AG']"
      ]
     },
     "execution_count": 26,
     "metadata": {},
     "output_type": "execute_result"
    }
   ],
   "source": [
    "splice_site_pairs[:-1]"
   ]
  },
  {
   "cell_type": "code",
   "execution_count": 27,
   "id": "45c1a6b1",
   "metadata": {},
   "outputs": [],
   "source": [
    "l=[1,2,3,4]"
   ]
  },
  {
   "cell_type": "code",
   "execution_count": 28,
   "id": "83afe3e3",
   "metadata": {},
   "outputs": [],
   "source": [
    "e=5"
   ]
  },
  {
   "cell_type": "code",
   "execution_count": 29,
   "id": "99863ad1",
   "metadata": {},
   "outputs": [],
   "source": [
    "l.append(e)"
   ]
  },
  {
   "cell_type": "code",
   "execution_count": 30,
   "id": "10fcaa08",
   "metadata": {},
   "outputs": [
    {
     "data": {
      "text/plain": [
       "[1, 2, 3, 4, 5]"
      ]
     },
     "execution_count": 30,
     "metadata": {},
     "output_type": "execute_result"
    }
   ],
   "source": [
    "l"
   ]
  },
  {
   "cell_type": "code",
   "execution_count": 31,
   "id": "f2a7b9fd",
   "metadata": {},
   "outputs": [],
   "source": [
    "t=('a','c','g','t')"
   ]
  },
  {
   "cell_type": "code",
   "execution_count": 32,
   "id": "2ce6a24e",
   "metadata": {},
   "outputs": [
    {
     "ename": "AttributeError",
     "evalue": "'tuple' object has no attribute 'append'",
     "output_type": "error",
     "traceback": [
      "\u001b[1;31m---------------------------------------------------------------------------\u001b[0m",
      "\u001b[1;31mAttributeError\u001b[0m                            Traceback (most recent call last)",
      "\u001b[1;32m~\\AppData\\Local\\Temp/ipykernel_21012/138926157.py\u001b[0m in \u001b[0;36m<module>\u001b[1;34m\u001b[0m\n\u001b[1;32m----> 1\u001b[1;33m \u001b[0mt\u001b[0m\u001b[1;33m.\u001b[0m\u001b[0mappend\u001b[0m\u001b[1;33m(\u001b[0m\u001b[1;33m(\u001b[0m\u001b[1;34m'A'\u001b[0m\u001b[1;33m,\u001b[0m\u001b[1;34m'C'\u001b[0m\u001b[1;33m,\u001b[0m\u001b[1;34m'G'\u001b[0m\u001b[1;33m,\u001b[0m\u001b[1;34m'T'\u001b[0m\u001b[1;33m)\u001b[0m\u001b[1;33m)\u001b[0m\u001b[1;33m\u001b[0m\u001b[1;33m\u001b[0m\u001b[0m\n\u001b[0m",
      "\u001b[1;31mAttributeError\u001b[0m: 'tuple' object has no attribute 'append'"
     ]
    }
   ],
   "source": [
    "#t.append(('A','C','G','T'))"
   ]
  },
  {
   "cell_type": "code",
   "execution_count": 33,
   "id": "49bd4e1d",
   "metadata": {},
   "outputs": [
    {
     "name": "stdout",
     "output_type": "stream",
     "text": [
      "enter DNA sequence:atgafbhjvaytgcatgc\n"
     ]
    }
   ],
   "source": [
    "dna=input(\"enter DNA sequence:\")"
   ]
  },
  {
   "cell_type": "code",
   "execution_count": 34,
   "id": "22988b0a",
   "metadata": {},
   "outputs": [],
   "source": [
    "dna_counts={'t':dna.count('t'),'c':dna.count('c'),'g':dna.count('g'),'a':dna.count('a')}"
   ]
  },
  {
   "cell_type": "code",
   "execution_count": 35,
   "id": "bc92808f",
   "metadata": {},
   "outputs": [],
   "source": [
    "nt=sorted(dna_counts.keys())"
   ]
  },
  {
   "cell_type": "code",
   "execution_count": 36,
   "id": "0fb4978c",
   "metadata": {},
   "outputs": [
    {
     "name": "stdout",
     "output_type": "stream",
     "text": [
      "t\n"
     ]
    }
   ],
   "source": [
    "print(nt[-1])"
   ]
  },
  {
   "cell_type": "code",
   "execution_count": 37,
   "id": "90b66727",
   "metadata": {},
   "outputs": [
    {
     "name": "stdout",
     "output_type": "stream",
     "text": [
      "enter DNA sequence:atgcatgcatgggatcgatgc\n"
     ]
    }
   ],
   "source": [
    "dna=input(\"enter DNA sequence:\")"
   ]
  },
  {
   "cell_type": "code",
   "execution_count": 38,
   "id": "2b580809",
   "metadata": {},
   "outputs": [],
   "source": [
    "dna_counts={'t':dna.count('t'),'c':dna.count('c'),'g':dna.count('g'),'a':dna.count('a')}"
   ]
  },
  {
   "cell_type": "code",
   "execution_count": 39,
   "id": "e6ba2748",
   "metadata": {},
   "outputs": [],
   "source": [
    "max_freq=sorted(dna_counts.values())[-1]"
   ]
  },
  {
   "cell_type": "code",
   "execution_count": 40,
   "id": "b3748b12",
   "metadata": {},
   "outputs": [
    {
     "data": {
      "text/plain": [
       "7"
      ]
     },
     "execution_count": 40,
     "metadata": {},
     "output_type": "execute_result"
    }
   ],
   "source": [
    "max_freq"
   ]
  },
  {
   "cell_type": "code",
   "execution_count": 41,
   "id": "ba1d6b9e",
   "metadata": {},
   "outputs": [],
   "source": [
    "l1=[1,2,3,3]"
   ]
  },
  {
   "cell_type": "code",
   "execution_count": 42,
   "id": "ca3feace",
   "metadata": {},
   "outputs": [],
   "source": [
    "l2=[3,4,5]"
   ]
  },
  {
   "cell_type": "code",
   "execution_count": 43,
   "id": "7f7e78fd",
   "metadata": {},
   "outputs": [],
   "source": [
    "l3=list(set(l1)&set(l2))"
   ]
  },
  {
   "cell_type": "code",
   "execution_count": 44,
   "id": "40e8a64a",
   "metadata": {},
   "outputs": [
    {
     "data": {
      "text/plain": [
       "[3]"
      ]
     },
     "execution_count": 44,
     "metadata": {},
     "output_type": "execute_result"
    }
   ],
   "source": [
    "l3"
   ]
  },
  {
   "cell_type": "code",
   "execution_count": 45,
   "id": "cce49f8d",
   "metadata": {},
   "outputs": [],
   "source": [
    "somedata={}"
   ]
  },
  {
   "cell_type": "code",
   "execution_count": 46,
   "id": "7b91cf0a",
   "metadata": {},
   "outputs": [],
   "source": [
    "somedata['cheese']='dairy'"
   ]
  },
  {
   "cell_type": "code",
   "execution_count": 47,
   "id": "178d3fdc",
   "metadata": {},
   "outputs": [],
   "source": [
    "somedata['Cheese']='dairy'"
   ]
  },
  {
   "cell_type": "code",
   "execution_count": 48,
   "id": "15362805",
   "metadata": {},
   "outputs": [],
   "source": [
    "somedata['Cheese']='Dairy'"
   ]
  },
  {
   "cell_type": "code",
   "execution_count": 49,
   "id": "cee5de93",
   "metadata": {},
   "outputs": [],
   "source": [
    "somedata['cheese']='Dairy'"
   ]
  },
  {
   "cell_type": "code",
   "execution_count": 50,
   "id": "9d81ef90",
   "metadata": {},
   "outputs": [
    {
     "data": {
      "text/plain": [
       "{'cheese': 'Dairy', 'Cheese': 'Dairy'}"
      ]
     },
     "execution_count": 50,
     "metadata": {},
     "output_type": "execute_result"
    }
   ],
   "source": [
    "somedata"
   ]
  },
  {
   "cell_type": "code",
   "execution_count": 51,
   "id": "be765798",
   "metadata": {},
   "outputs": [
    {
     "name": "stdout",
     "output_type": "stream",
     "text": [
      "enter dna sequence:atgctgacccatgfccatgc\n"
     ]
    }
   ],
   "source": [
    "dna=input('enter dna sequence:')"
   ]
  },
  {
   "cell_type": "code",
   "execution_count": 52,
   "id": "f25eda9c",
   "metadata": {},
   "outputs": [
    {
     "name": "stdout",
     "output_type": "stream",
     "text": [
      "dna sequence has no undefined bases\n"
     ]
    }
   ],
   "source": [
    "if 'n' in dna:\n",
    "    nbases=dna.count('n')\n",
    "    print (\"dna sequence has %d undefined bases\" % nbases)\n",
    "else:\n",
    "    print (\"dna sequence has no undefined bases\")\n"
   ]
  },
  {
   "cell_type": "code",
   "execution_count": 53,
   "id": "046bfc95",
   "metadata": {},
   "outputs": [],
   "source": [
    "motif='gtccc'"
   ]
  },
  {
   "cell_type": "code",
   "execution_count": 54,
   "id": "15864197",
   "metadata": {},
   "outputs": [],
   "source": [
    "dna='atatattgtcccattt'"
   ]
  },
  {
   "cell_type": "code",
   "execution_count": 55,
   "id": "d8dbb249",
   "metadata": {},
   "outputs": [
    {
     "data": {
      "text/plain": [
       "True"
      ]
     },
     "execution_count": 55,
     "metadata": {},
     "output_type": "execute_result"
    }
   ],
   "source": [
    "motif in dna"
   ]
  },
  {
   "cell_type": "code",
   "execution_count": 56,
   "id": "78030444",
   "metadata": {},
   "outputs": [],
   "source": [
    "alphabet=['a','c','g','t']"
   ]
  },
  {
   "cell_type": "code",
   "execution_count": 57,
   "id": "85d2ecba",
   "metadata": {},
   "outputs": [],
   "source": [
    "newaplhabet=alphabet[:]"
   ]
  },
  {
   "cell_type": "code",
   "execution_count": 58,
   "id": "f508c286",
   "metadata": {},
   "outputs": [
    {
     "data": {
      "text/plain": [
       "True"
      ]
     },
     "execution_count": 58,
     "metadata": {},
     "output_type": "execute_result"
    }
   ],
   "source": [
    "alphabet==newaplhabet"
   ]
  },
  {
   "cell_type": "code",
   "execution_count": 59,
   "id": "cb8e824c",
   "metadata": {},
   "outputs": [
    {
     "data": {
      "text/plain": [
       "False"
      ]
     },
     "execution_count": 59,
     "metadata": {},
     "output_type": "execute_result"
    }
   ],
   "source": [
    "alphabet is newaplhabet"
   ]
  },
  {
   "cell_type": "code",
   "execution_count": 60,
   "id": "b52c471e",
   "metadata": {},
   "outputs": [
    {
     "name": "stdout",
     "output_type": "stream",
     "text": [
      "enter dna sequence:atgcatgccatgc\n"
     ]
    }
   ],
   "source": [
    "dna=input('enter dna sequence:')"
   ]
  },
  {
   "cell_type": "code",
   "execution_count": 61,
   "id": "18dac864",
   "metadata": {},
   "outputs": [
    {
     "name": "stdout",
     "output_type": "stream",
     "text": [
      "dna sequence has no undefined bases\n"
     ]
    }
   ],
   "source": [
    "if 'n' in dna or 'N' in dna:\n",
    "    nbases=dna.count ('n')+dna.count('N')\n",
    "    print (\"dna sequence has %d undefined bases\" % nbases)\n",
    "else:\n",
    "    print (\"dna sequence has no undefined bases\")"
   ]
  },
  {
   "cell_type": "code",
   "execution_count": 62,
   "id": "bcef86a5",
   "metadata": {},
   "outputs": [
    {
     "name": "stdout",
     "output_type": "stream",
     "text": [
      "enter dna sequnce:atgcccatgc\n"
     ]
    }
   ],
   "source": [
    "dna=input('enter dna sequnce:')"
   ]
  },
  {
   "cell_type": "code",
   "execution_count": 63,
   "id": "0e7cb532",
   "metadata": {},
   "outputs": [],
   "source": [
    "pos=dna.find('gt',0) #position of donor splice site\n",
    "\n",
    "while pos>-1:\n",
    "    print (\"donor splice site candidate at position %d\" %pos)\n",
    "    pos=dna.find('gt',pos+1)\n",
    "    "
   ]
  },
  {
   "cell_type": "code",
   "execution_count": 64,
   "id": "3d0c9e24",
   "metadata": {},
   "outputs": [],
   "source": [
    "motifs=[\"attccgt\",\"agggggtttttcg\",\"gtagc\" ]"
   ]
  },
  {
   "cell_type": "code",
   "execution_count": 65,
   "id": "c5980ef3",
   "metadata": {},
   "outputs": [
    {
     "name": "stdout",
     "output_type": "stream",
     "text": [
      "attccgt 7\n",
      "agggggtttttcg 13\n",
      "gtagc 5\n"
     ]
    }
   ],
   "source": [
    "for m in motifs:\n",
    "    print (m,len(m))"
   ]
  },
  {
   "cell_type": "code",
   "execution_count": 66,
   "id": "f343a0ca",
   "metadata": {},
   "outputs": [
    {
     "name": "stdout",
     "output_type": "stream",
     "text": [
      "1\n",
      "3\n",
      "5\n",
      "7\n",
      "9\n"
     ]
    }
   ],
   "source": [
    "for i in range (1,10,2):\n",
    "    print (i)"
   ]
  },
  {
   "cell_type": "code",
   "execution_count": 67,
   "id": "39ddadb2",
   "metadata": {},
   "outputs": [
    {
     "name": "stdout",
     "output_type": "stream",
     "text": [
      "0\n",
      "1\n",
      "2\n",
      "3\n"
     ]
    }
   ],
   "source": [
    "for i in range (4):\n",
    "       print (i)"
   ]
  },
  {
   "cell_type": "code",
   "execution_count": 86,
   "id": "ddb2bba5",
   "metadata": {},
   "outputs": [],
   "source": [
    "protein='SDVIHRYKUUPAKSHGWYVCJRSRFTWMVWWRFRSCRA'"
   ]
  },
  {
   "cell_type": "code",
   "execution_count": 97,
   "id": "a15a7259",
   "metadata": {},
   "outputs": [
    {
     "name": "stdout",
     "output_type": "stream",
     "text": [
      "protein contains invalid amino acid U at position 8\n",
      "protein contains invalid amino acid U at position 9\n",
      "protein contains invalid amino acid J at position 20\n"
     ]
    }
   ],
   "source": [
    "for i in range(len(protein)):\n",
    "    if protein[i] not in 'ABCDEFGHIKLMNOPQRSTVWXYZ':\n",
    "        print (\"protein contains invalid amino acid %s at position %d\"%(protein[i],i))"
   ]
  },
  {
   "cell_type": "code",
   "execution_count": 98,
   "id": "20b9570a",
   "metadata": {},
   "outputs": [
    {
     "name": "stdout",
     "output_type": "stream",
     "text": [
      "this is not a valid protein sequence\n"
     ]
    }
   ],
   "source": [
    "for i in range(len(protein)):\n",
    "    if protein[i] not in 'ABCDEFGHIKLMNOPQRSTVWXYZ':\n",
    "        print (\"this is not a valid protein sequence\")\n",
    "        break\n",
    "        "
   ]
  },
  {
   "cell_type": "code",
   "execution_count": 99,
   "id": "1d68edec",
   "metadata": {},
   "outputs": [],
   "source": [
    "corrected_protein=''"
   ]
  },
  {
   "cell_type": "code",
   "execution_count": 100,
   "id": "f8050ebb",
   "metadata": {},
   "outputs": [],
   "source": [
    "for i in range (len(protein)):\n",
    "    if protein[i] not in 'ABCDEFGHIKLMNOPQRSTVWXYZ':\n",
    "        continue\n",
    "    corrected_protein=corrected_protein+protein[i]"
   ]
  },
  {
   "cell_type": "code",
   "execution_count": 101,
   "id": "6fcd3334",
   "metadata": {},
   "outputs": [
    {
     "name": "stdout",
     "output_type": "stream",
     "text": [
      "corrected protein sequence is:SDVIHRYKPAKSHGWYVCRSRFTWMVWWRFRSCRA\n"
     ]
    }
   ],
   "source": [
    "print (\"corrected protein sequence is:%s\"%corrected_protein)"
   ]
  },
  {
   "cell_type": "code",
   "execution_count": 102,
   "id": "5ae711ba",
   "metadata": {},
   "outputs": [],
   "source": [
    "n=10"
   ]
  },
  {
   "cell_type": "code",
   "execution_count": 103,
   "id": "cd291d54",
   "metadata": {},
   "outputs": [
    {
     "name": "stdout",
     "output_type": "stream",
     "text": [
      "2 is a prime number\n",
      "3 is a prime number\n",
      "4 equals 2 * 2\n",
      "5 is a prime number\n",
      "6 equals 2 * 3\n",
      "7 is a prime number\n",
      "8 equals 2 * 4\n",
      "9 equals 3 * 3\n"
     ]
    }
   ],
   "source": [
    "for y in range(2,n):\n",
    "    for x in range(2,y):\n",
    "        if y%x ==0:\n",
    "            print(y,'equals',x,'*',y//x)\n",
    "            break\n",
    "    else:\n",
    "        #loop fell through without finding a factor \n",
    "        print (y,'is a prime number')"
   ]
  },
  {
   "cell_type": "code",
   "execution_count": 106,
   "id": "e03f6e92",
   "metadata": {},
   "outputs": [],
   "source": [
    "i=1\n",
    "while i< 2048 :\n",
    "      i=2*i"
   ]
  },
  {
   "cell_type": "code",
   "execution_count": 107,
   "id": "09b49e72",
   "metadata": {},
   "outputs": [
    {
     "data": {
      "text/plain": [
       "2048"
      ]
     },
     "execution_count": 107,
     "metadata": {},
     "output_type": "execute_result"
    }
   ],
   "source": [
    "i"
   ]
  },
  {
   "cell_type": "code",
   "execution_count": 110,
   "id": "55941c20",
   "metadata": {},
   "outputs": [],
   "source": [
    "seq=\"abc\""
   ]
  },
  {
   "cell_type": "code",
   "execution_count": 113,
   "id": "2c394d87",
   "metadata": {},
   "outputs": [
    {
     "data": {
      "text/plain": [
       "range(0, 3)"
      ]
     },
     "execution_count": 113,
     "metadata": {},
     "output_type": "execute_result"
    }
   ],
   "source": [
    "range(3)"
   ]
  },
  {
   "cell_type": "code",
   "execution_count": 114,
   "id": "7a80eade",
   "metadata": {},
   "outputs": [
    {
     "name": "stdout",
     "output_type": "stream",
     "text": [
      "0\n",
      "1\n",
      "2\n"
     ]
    }
   ],
   "source": [
    "for i in range(3):\n",
    "    print(i)"
   ]
  },
  {
   "cell_type": "code",
   "execution_count": 125,
   "id": "8c1041ef",
   "metadata": {},
   "outputs": [
    {
     "name": "stdout",
     "output_type": "stream",
     "text": [
      "a\n",
      "ab\n",
      "b\n",
      "abc\n",
      "bc\n",
      "c\n"
     ]
    }
   ],
   "source": [
    "for i in range(len(seq)+1):\n",
    "    for j in range(i):\n",
    "         print(seq[j:i])"
   ]
  },
  {
   "cell_type": "code",
   "execution_count": 126,
   "id": "be7d45bc",
   "metadata": {},
   "outputs": [
    {
     "name": "stdout",
     "output_type": "stream",
     "text": [
      "a\n",
      "ab\n",
      "b\n"
     ]
    }
   ],
   "source": [
    "for i in range(len(seq)):\n",
    "    for j in range(i):\n",
    "         print(seq[j:i])"
   ]
  },
  {
   "cell_type": "code",
   "execution_count": 1,
   "id": "60f4a131",
   "metadata": {},
   "outputs": [],
   "source": [
    "def gc(dna):\n",
    "    \"this function computes the GC percentage of a DNA sequence\"\n",
    "    nbases=dna.count('n')+dna.count('N')\n",
    "    gcpercent=float(dna.count('c')+dna.count('C')+dna.count('g')+dna.count('G'))*100.0/(len(dna)-nbases)\n",
    "    return gcpercent"
   ]
  },
  {
   "cell_type": "code",
   "execution_count": 3,
   "id": "25ac47d4-04e8-4b84-a551-41780b12ffb5",
   "metadata": {},
   "outputs": [
    {
     "data": {
      "text/plain": [
       "40.0"
      ]
     },
     "execution_count": 3,
     "metadata": {},
     "output_type": "execute_result"
    }
   ],
   "source": [
    "gc('AAAGTNNAGTCC')"
   ]
  },
  {
   "cell_type": "code",
   "execution_count": 4,
   "id": "287ec093",
   "metadata": {},
   "outputs": [
    {
     "name": "stdout",
     "output_type": "stream",
     "text": [
      "Help on function gc in module __main__:\n",
      "\n",
      "gc(dna)\n",
      "    this function computes the GC percentage of a DNA sequence\n",
      "\n"
     ]
    }
   ],
   "source": [
    "help(gc)"
   ]
  },
  {
   "cell_type": "code",
   "execution_count": 6,
   "id": "0da7c122",
   "metadata": {},
   "outputs": [],
   "source": [
    "def has_stop_codon(dna):\n",
    "    \"this function checks if given dna sequence has in frame stop codons. \"\n",
    "    stop_codon_found=False\n",
    "    stop_codons=['tga','tag','taa']\n",
    "    for i in range(0,len(dna),3):\n",
    "        codon=dna[i:i+3].lower()\n",
    "        if codon in stop_codons:\n",
    "            stop_codon_found=True\n",
    "            break\n",
    "    return stop_codon_found "
   ]
  },
  {
   "cell_type": "code",
   "execution_count": 7,
   "id": "e1a25bf9",
   "metadata": {},
   "outputs": [
    {
     "data": {
      "text/plain": [
       "True"
      ]
     },
     "execution_count": 7,
     "metadata": {},
     "output_type": "execute_result"
    }
   ],
   "source": [
    "has_stop_codon('AAGTCAtagGTCGGAACTGCTAA')"
   ]
  },
  {
   "cell_type": "code",
   "execution_count": 8,
   "id": "01aa31e9",
   "metadata": {},
   "outputs": [],
   "source": [
    "def has_stop_codon(dna,frame):\n",
    "    \"this function checks if given dna sequence has in frame stop codons. \"\n",
    "    stop_codon_found=False\n",
    "    stop_codons=['tga','tag','taa']\n",
    "    for i in range(frame,len(dna),3):\n",
    "        codon=dna[i:i+3].lower()\n",
    "        if codon in stop_codons:\n",
    "            stop_codon_found=True\n",
    "            break\n",
    "    return stop_codon_found "
   ]
  },
  {
   "cell_type": "code",
   "execution_count": 9,
   "id": "14b28c3d",
   "metadata": {},
   "outputs": [],
   "source": [
    "dna=\"atgagcggccggct\"\n"
   ]
  },
  {
   "cell_type": "code",
   "execution_count": 10,
   "id": "ae210728",
   "metadata": {},
   "outputs": [
    {
     "data": {
      "text/plain": [
       "False"
      ]
     },
     "execution_count": 10,
     "metadata": {},
     "output_type": "execute_result"
    }
   ],
   "source": [
    "has_stop_codon(dna,0)"
   ]
  },
  {
   "cell_type": "code",
   "execution_count": 11,
   "id": "dbf8da16",
   "metadata": {},
   "outputs": [
    {
     "data": {
      "text/plain": [
       "True"
      ]
     },
     "execution_count": 11,
     "metadata": {},
     "output_type": "execute_result"
    }
   ],
   "source": [
    "has_stop_codon(dna,1)"
   ]
  },
  {
   "cell_type": "code",
   "execution_count": null,
   "id": "cc24a8cf",
   "metadata": {},
   "outputs": [],
   "source": []
  }
 ],
 "metadata": {
  "kernelspec": {
   "display_name": "Python 3 (ipykernel)",
   "language": "python",
   "name": "python3"
  },
  "language_info": {
   "codemirror_mode": {
    "name": "ipython",
    "version": 3
   },
   "file_extension": ".py",
   "mimetype": "text/x-python",
   "name": "python",
   "nbconvert_exporter": "python",
   "pygments_lexer": "ipython3",
   "version": "3.9.7"
  }
 },
 "nbformat": 4,
 "nbformat_minor": 5
}
