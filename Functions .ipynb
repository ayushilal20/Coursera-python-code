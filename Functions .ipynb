{
 "cells": [
  {
   "cell_type": "code",
   "execution_count": 1,
   "id": "09253678",
   "metadata": {},
   "outputs": [],
   "source": [
    "def reverse_string (seq):\n",
    "    return seq[::-1]"
   ]
  },
  {
   "cell_type": "code",
   "execution_count": 2,
   "id": "d69f6a7e",
   "metadata": {},
   "outputs": [],
   "source": [
    "def complement(dna):\n",
    "    \"\"\"Return the complementary sequence string\"\"\"\n",
    "    basecomplement={'A':'T','C':'G','G':'C','T':'A','N':'N','a':'t','c':'g','g':'c','t':'a','n':'n'}\n",
    "    letters=list(dna)\n",
    "    letters=[basecomplement[base]for base in letters]\n",
    "    return ''.join(letters)"
   ]
  },
  {
   "cell_type": "code",
   "execution_count": 3,
   "id": "5a565a6e",
   "metadata": {},
   "outputs": [],
   "source": [
    "def reversecomplement (seq):\n",
    "    \"\"\" Return the reverse complement of the dna string\"\"\"\n",
    "    seq = reverse_string(seq)\n",
    "    seq = complement(seq)\n",
    "    return seq"
   ]
  },
  {
   "cell_type": "code",
   "execution_count": 5,
   "id": "2770f291",
   "metadata": {},
   "outputs": [
    {
     "data": {
      "text/plain": [
       "'gtttgactgaaccctggcatgcgactgcaat'"
      ]
     },
     "execution_count": 5,
     "metadata": {},
     "output_type": "execute_result"
    }
   ],
   "source": [
    "reversecomplement ('attgcagtcgcatgccagggttcagtcaaac')"
   ]
  }
 ],
 "metadata": {
  "kernelspec": {
   "display_name": "Python 3 (ipykernel)",
   "language": "python",
   "name": "python3"
  },
  "language_info": {
   "codemirror_mode": {
    "name": "ipython",
    "version": 3
   },
   "file_extension": ".py",
   "mimetype": "text/x-python",
   "name": "python",
   "nbconvert_exporter": "python",
   "pygments_lexer": "ipython3",
   "version": "3.9.7"
  }
 },
 "nbformat": 4,
 "nbformat_minor": 5
}
